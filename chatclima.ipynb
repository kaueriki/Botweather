{
  "nbformat": 4,
  "nbformat_minor": 0,
  "metadata": {
    "colab": {
      "provenance": []
    },
    "kernelspec": {
      "name": "python3",
      "display_name": "Python 3"
    },
    "language_info": {
      "name": "python"
    }
  },
  "cells": [
    {
      "cell_type": "code",
      "source": [
        "! pip install pytelegrambotapi requests"
      ],
      "metadata": {
        "id": "osYc1uQ-0U-8"
      },
      "execution_count": null,
      "outputs": []
    },
    {
      "cell_type": "code",
      "metadata": {
        "id": "ESncf9PDCa7W"
      },
      "source": [
        "import telebot"
      ],
      "execution_count": null,
      "outputs": []
    },
    {
      "cell_type": "code",
      "source": [
        "import requests"
      ],
      "metadata": {
        "id": "ux9cT7ci0djP"
      },
      "execution_count": null,
      "outputs": []
    },
    {
      "cell_type": "code",
      "source": [
        "import logging"
      ],
      "metadata": {
        "id": "FM-_4ZSC0gQo"
      },
      "execution_count": null,
      "outputs": []
    },
    {
      "cell_type": "code",
      "source": [
        "logging.basicConfig(level=logging.INFO, format='%(asctime)s - %(message)s')"
      ],
      "metadata": {
        "id": "yOOV4JGl0ikc"
      },
      "execution_count": null,
      "outputs": []
    },
    {
      "cell_type": "code",
      "metadata": {
        "id": "6umXZI0eCfIS"
      },
      "source": [
        "API_TOKEN = '7119724103:AAHyuxSL7yKDIu_mmxTfm596OzTZV2Z2yDo'\n",
        "bot = telebot.TeleBot(API_TOKEN)"
      ],
      "execution_count": null,
      "outputs": []
    },
    {
      "cell_type": "code",
      "source": [
        "WEATHER_API_KEY = 'afac80a4a23d148c59bd20c85fe3f18f'"
      ],
      "metadata": {
        "id": "27SSveIL0utm"
      },
      "execution_count": null,
      "outputs": []
    },
    {
      "cell_type": "code",
      "metadata": {
        "id": "bBKBLu_HDTOM"
      },
      "source": [
        "@bot.message_handler(commands=['start'])\n",
        "def send_welcome(message):\n",
        "    bot.reply_to(message, \"Olá! Eu sou o WeatherBot. Você pode me pedir informações sobre o clima.\\n\"\n",
        "                          \"Use /help para ver os comandos disponíveis.\")\n",
        "\n",
        "@bot.message_handler(commands=['help'])\n",
        "def send_help(message):\n",
        "    bot.reply_to(message, \"/start - Iniciar interação com o bot\\n\"\n",
        "                          \"/weather [cidade] - Obter informações sobre o clima da cidade\\n\"\n",
        "                          \"Basta digitar qualquer outra coisa para iniciar uma nova conversa.\")\n",
        "\n",
        "@bot.message_handler(commands=['weather'])\n",
        "def get_weather(message):\n",
        "    cidade = ' '.join(message.text.split()[1:])\n",
        "    if cidade:\n",
        "        try:\n",
        "            weather_info = fetch_weather(cidade)\n",
        "            if weather_info:\n",
        "                bot.reply_to(message, weather_info)\n",
        "            else:\n",
        "                bot.reply_to(message, 'Não consegui obter informações sobre o clima dessa cidade.')\n",
        "        except Exception as e:\n",
        "            logging.error(f'Erro ao obter informações do clima: {e}')\n",
        "            bot.reply_to(message, f'Ocorreu um erro: {e}')\n",
        "    else:\n",
        "        bot.reply_to(message, 'Por favor, forneça o nome da cidade após o comando /weather.')\n",
        "\n",
        "@bot.message_handler(func=lambda message: True)\n",
        "def handle_message(message):\n",
        "    bot.reply_to(message, 'Use /weather [cidade] para obter informações sobre o clima.')\n",
        "\n",
        "def fetch_weather(city):\n",
        "    base_url = \"http://api.openweathermap.org/data/2.5/weather\"\n",
        "    params = {\n",
        "        'q': city,\n",
        "        'appid': WEATHER_API_KEY,\n",
        "        'units': 'metric',\n",
        "        'lang': 'pt'\n",
        "    }\n",
        "    response = requests.get(base_url, params=params)\n",
        "    if response.status_code == 200:\n",
        "        data = response.json()\n",
        "        city_name = data['name']\n",
        "        country = data['sys']['country']\n",
        "        temp = data['main']['temp']\n",
        "        description = data['weather'][0]['description']\n",
        "        humidity = data['main']['humidity']\n",
        "        wind_speed = data['wind']['speed']\n",
        "\n",
        "        weather_info = (f\"Clima em {city_name}, {country}:\\n\"\n",
        "                        f\"Temperatura: {temp}°C\\n\"\n",
        "                        f\"Descrição: {description}\\n\"\n",
        "                        f\"Umidade: {humidity}%\\n\"\n",
        "                        f\"Velocidade do Vento: {wind_speed} m/s\")\n",
        "        return weather_info\n",
        "    else:\n",
        "        logging.error(f'Erro na chamada da API: {response.status_code}')\n",
        "        return None"
      ],
      "execution_count": null,
      "outputs": []
    },
    {
      "cell_type": "code",
      "metadata": {
        "id": "yV0aZxrhDfzP"
      },
      "source": [
        "bot.polling()"
      ],
      "execution_count": null,
      "outputs": []
    }
  ]
}